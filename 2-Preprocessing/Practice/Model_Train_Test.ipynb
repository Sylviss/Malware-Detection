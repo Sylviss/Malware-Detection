{
  "cells": [
    {
      "cell_type": "markdown",
      "metadata": {
        "id": "IpL5v1Sf3RWI"
      },
      "source": [
        "# House Price Prediction\n",
        "\n",
        "* Trong phần này, bạn sẽ học được cách sử dụng dữ liệu sẵn có để xây dựng một mô hình dự đoán (dự đoán giá nhà).\n",
        "\n",
        ">- Xây dựng/ Khởi tạo mô hình như thế nào?\n",
        "- Đưa dữ liệu vào huấn luyện mô hình?\n",
        "- Sử dụng mô hình đã huấn luyện để dự đoán?\n",
        "\n",
        "\n",
        "* Dữ liệu sử dụng: clean_data.csv (có được sau bài thực hành trên lớp)"
      ]
    },
    {
      "cell_type": "markdown",
      "source": [
        "# Các bước tiến hành"
      ],
      "metadata": {
        "id": "5DBy3giewT-z"
      }
    },
    {
      "cell_type": "markdown",
      "metadata": {
        "id": "dNJlGEKIWuav"
      },
      "source": [
        "## Load dữ liệu và xử lí một vài bước trước khi huấn luyện"
      ]
    },
    {
      "cell_type": "code",
      "execution_count": null,
      "metadata": {
        "id": "ydYWvdItUpPa"
      },
      "outputs": [],
      "source": [
        "from google.colab import drive\n",
        "drive.mount('/content/drive')"
      ]
    },
    {
      "cell_type": "markdown",
      "metadata": {
        "id": "9JwQylHvUSiY"
      },
      "source": [
        "1. Import thư viện cần thiết"
      ]
    },
    {
      "cell_type": "code",
      "execution_count": 2,
      "metadata": {
        "id": "gOSX3Cyj3MMb"
      },
      "outputs": [],
      "source": [
        "import numpy as np\n",
        "import pandas as pd\n",
        "import matplotlib.pyplot as plt\n",
        "import seaborn as sns"
      ]
    },
    {
      "cell_type": "code",
      "execution_count": 3,
      "metadata": {
        "id": "xRx0SRBGC54j"
      },
      "outputs": [],
      "source": [
        "pd.set_option(\"display.max_columns\", None)\n",
        "pd.set_option(\"display.max_rows\", None)"
      ]
    },
    {
      "cell_type": "markdown",
      "metadata": {
        "id": "n9kUbMbfVOEI"
      },
      "source": [
        "2. Load dữ liệu cần thiết"
      ]
    },
    {
      "cell_type": "code",
      "execution_count": null,
      "metadata": {
        "id": "zs-JKRElVCWU"
      },
      "outputs": [],
      "source": [
        "%cd /content/drive/MyDrive/ML_course/Preprocessing_practice/Practice/Bangalore_House_Price_data\n",
        "#Nếu chạy trên colab thì cũng cần trỏ tới thư mục phù hợp để lấy data"
      ]
    },
    {
      "cell_type": "code",
      "execution_count": null,
      "metadata": {
        "id": "Gp8WO-ZhNc6w"
      },
      "outputs": [],
      "source": [
        "path = \"./clean_data.csv\"\n",
        "df = pd.read_csv(path)\n",
        "df.shape"
      ]
    },
    {
      "cell_type": "code",
      "execution_count": null,
      "metadata": {
        "id": "VFKjUlZtPQgS"
      },
      "outputs": [],
      "source": [
        "df.head()"
      ]
    },
    {
      "cell_type": "markdown",
      "metadata": {
        "id": "axowdsatcJaQ"
      },
      "source": [
        "3. Phân chia dữ liệu train - test"
      ]
    },
    {
      "cell_type": "code",
      "execution_count": null,
      "metadata": {
        "id": "PU_DeM90b7As"
      },
      "outputs": [],
      "source": [
        "# Xác định thông tin thuộc tính X và nhãn y\n",
        "X = df.drop(\"price\", axis=1)\n",
        "y = df['price']\n",
        "print('Shape of X = ', X.shape)\n",
        "print('Shape of y = ', y.shape)"
      ]
    },
    {
      "cell_type": "code",
      "execution_count": null,
      "metadata": {
        "id": "aNVLPL-rcNwa"
      },
      "outputs": [],
      "source": [
        "#Chia dữ liệu - train_test_split\n",
        "from sklearn.model_selection import train_test_split\n",
        "X_train, X_test, y_train, y_test = train_test_split(X, y, test_size = 0.2, random_state = 51)\n",
        "print('Shape of X_train = ', X_train.shape)\n",
        "print('Shape of y_train = ', y_train.shape)\n",
        "print('Shape of X_test = ', X_test.shape)\n",
        "print('Shape of y_test = ', y_test.shape)"
      ]
    },
    {
      "cell_type": "markdown",
      "metadata": {
        "id": "k65LC4_qcYpm"
      },
      "source": [
        "4. Feature Scaling\n",
        "\n",
        "> If feature scaling is not done, then a machine learning algorithm tends to weigh greater values, higher and consider smaller values as the lower values, regardless of the unit of the values."
      ]
    },
    {
      "cell_type": "code",
      "execution_count": 9,
      "metadata": {
        "id": "D1BCc8gAcUi6"
      },
      "outputs": [],
      "source": [
        "#Chuẩn hóa giá trị của các feature trong 1 phạm vi nào đó.\n",
        "\n",
        "from sklearn.preprocessing import StandardScaler\n",
        "sc = StandardScaler()\n",
        "sc.fit(X_train)\n",
        "X_train= sc.transform(X_train)\n",
        "X_test = sc.transform(X_test)"
      ]
    },
    {
      "cell_type": "markdown",
      "metadata": {
        "id": "Oh43OeUnfZAq"
      },
      "source": [
        "## Xây dựng mô hình huấn luyện"
      ]
    },
    {
      "cell_type": "markdown",
      "metadata": {
        "id": "d9-YKvESfcmd"
      },
      "source": [
        "### Linear Regression"
      ]
    },
    {
      "cell_type": "code",
      "execution_count": 10,
      "metadata": {
        "id": "GfPL9vJLcfXr"
      },
      "outputs": [],
      "source": [
        "from sklearn.linear_model import LinearRegression\n",
        "from sklearn.linear_model import Lasso\n",
        "from sklearn.linear_model import Ridge\n",
        "from sklearn.metrics import mean_squared_error\n",
        "lr = LinearRegression()\n",
        "lr_lasso = Lasso()\n",
        "lr_ridge = Ridge()"
      ]
    },
    {
      "cell_type": "code",
      "execution_count": 11,
      "metadata": {
        "id": "pG9byhg5YWGR"
      },
      "outputs": [],
      "source": [
        "def rmse(y_test, y_pred):\n",
        "  return np.sqrt(mean_squared_error(y_test, y_pred))"
      ]
    },
    {
      "cell_type": "code",
      "execution_count": null,
      "metadata": {
        "id": "WYm8ArSoff1p"
      },
      "outputs": [],
      "source": [
        "lr.fit(X_train, y_train)\n",
        "lr_score = lr.score(X_test, y_test) # with all num var 0.7842744111909903\n",
        "lr_rmse = rmse(y_test, lr.predict(X_test))\n",
        "lr_score, lr_rmse"
      ]
    },
    {
      "cell_type": "code",
      "execution_count": null,
      "metadata": {
        "id": "sEhTsgE6fnXp"
      },
      "outputs": [],
      "source": [
        "# Lasso\n",
        "lr_lasso.fit(X_train, y_train)\n",
        "lr_lasso_score=lr_lasso.score(X_test, y_test) # with balcony 0.5162364637824872\n",
        "lr_lasso_rmse = rmse(y_test, lr_lasso.predict(X_test))\n",
        "lr_lasso_score, lr_lasso_rmse"
      ]
    },
    {
      "cell_type": "code",
      "execution_count": null,
      "metadata": {
        "id": "Hhv5TxYlXBFJ"
      },
      "outputs": [],
      "source": [
        "# Ridge\n",
        "lr_ridge.fit(X_train, y_train)\n",
        "lr_ridge_score = lr_ridge.score(X_test, y_test) # with all num var 0.7842744111909903\n",
        "lr_ridge_rmse = rmse(y_test, lr_ridge.predict(X_test))\n",
        "lr_ridge_score, lr_ridge_rmse"
      ]
    },
    {
      "cell_type": "markdown",
      "metadata": {
        "id": "73sB16uxfwRm"
      },
      "source": [
        "### Support Vector Machine"
      ]
    },
    {
      "cell_type": "code",
      "execution_count": null,
      "metadata": {
        "id": "aep38HxxfsbA"
      },
      "outputs": [],
      "source": [
        "from sklearn.svm import SVR\n",
        "svr = SVR()\n",
        "svr.fit(X_train,y_train)\n",
        "svr_score=svr.score(X_test,y_test)\n",
        "svr_rmse = rmse(y_test, svr.predict(X_test))\n",
        "svr_score, svr_rmse"
      ]
    },
    {
      "cell_type": "markdown",
      "metadata": {
        "id": "w9-nexcsf5G3"
      },
      "source": [
        "### Random Forest"
      ]
    },
    {
      "cell_type": "code",
      "execution_count": null,
      "metadata": {
        "id": "ArlNrxFJf1ey"
      },
      "outputs": [],
      "source": [
        "from sklearn.ensemble import RandomForestRegressor\n",
        "rfr = RandomForestRegressor()\n",
        "rfr.fit(X_train,y_train)\n",
        "rfr_score=rfr.score(X_test,y_test)\n",
        "rfr_rmse = rmse(y_test, rfr.predict(X_test))\n",
        "rfr_score, rfr_rmse"
      ]
    },
    {
      "cell_type": "markdown",
      "metadata": {
        "id": "HMfJzdNkimif"
      },
      "source": [
        "## Test Model"
      ]
    },
    {
      "cell_type": "code",
      "execution_count": 17,
      "metadata": {
        "id": "udzrDV2fisfs"
      },
      "outputs": [],
      "source": [
        "def predict_house_price(model,bath,balcony,total_sqft_int,bhk,price_per_sqft,area_type,availability,location):\n",
        "\n",
        "  x =np.zeros(len(X.columns))\n",
        "\n",
        "  x[0]=bath\n",
        "  x[1]=balcony\n",
        "  x[2]=total_sqft_int\n",
        "  x[3]=bhk\n",
        "  x[4]=price_per_sqft\n",
        "\n",
        "  if \"availability\"==\"Ready To Move\":\n",
        "    x[8]=1\n",
        "\n",
        "  if 'area_type'+area_type in X.columns:\n",
        "    area_type_index = np.where(X.columns==\"area_type\"+area_type)[0][0]\n",
        "    x[area_type_index] =1\n",
        "\n",
        "  if 'location_'+location in X.columns:\n",
        "    loc_index = np.where(X.columns==\"location_\"+location)[0][0]\n",
        "    x[loc_index] =1\n",
        "\n",
        "  x = sc.transform([x])[0]\n",
        "\n",
        "  return model.predict([x])[0]"
      ]
    },
    {
      "cell_type": "markdown",
      "metadata": {
        "id": "WPUKwwK5SFBK"
      },
      "source": [
        "<table style=\"width:100%;border: 1px solid black;\">\n",
        "  <tr>\n",
        "    <th>area_type</th>\n",
        "    <th>availability</th>\n",
        "    <th>location</th>\n",
        "      <th>bath</th>\n",
        "      <th>balcony</th>\n",
        "      <th>total_sqft_int</th>\n",
        "      <th>bhk</th>\n",
        "      <th>price_per_sqft</th>\n",
        "  </tr>\n",
        "  <tr>\n",
        "    <td>Plot Area</td>\n",
        "    <td>Ready to Move</td>\n",
        "    <td>Devarabeesana</td>\n",
        "    <td>3</td>\n",
        "    <td>2</td>\n",
        "    <td>1672</td>\n",
        "    <td>3</td>\n",
        "    <td>8971.291866</td>\n",
        "  </tr>\n",
        "</table>"
      ]
    },
    {
      "cell_type": "code",
      "execution_count": null,
      "metadata": {
        "id": "cP2-LZ41GVd2"
      },
      "outputs": [],
      "source": [
        "# Test Linear Regression\n",
        "lr_test = predict_house_price(model=lr, bath=3,balcony=2,total_sqft_int=1672,bhk=3,price_per_sqft=8971.291866,area_type=\"Plot  Area\",availability=\"Ready To Move\",location=\"Devarabeesana Halli\")\n",
        "print(\"Test Linear Regression: \", lr_test)\n",
        "# Test Lasso\n",
        "lr_lasso_test = predict_house_price(model=lr_lasso, bath=3,balcony=2,total_sqft_int=1672,bhk=3,price_per_sqft=8971.291866,area_type=\"Plot  Area\",availability=\"Ready To Move\",location=\"Devarabeesana Halli\")\n",
        "print(\"Test Lasso: \", lr_lasso_test)"
      ]
    },
    {
      "cell_type": "code",
      "execution_count": null,
      "metadata": {
        "id": "FT6oIIPlHRmx"
      },
      "outputs": [],
      "source": [
        "# Test SVM\n",
        "svm_test = predict_house_price(model=svr, bath=3,balcony=2,total_sqft_int=1750,bhk=3,price_per_sqft=8571.428571,area_type=\"Super built-up\",availability=\"Ready To Move\",location=\"Devarabeesana Halli\")\n",
        "print(\"Test SVM: \", svm_test)"
      ]
    },
    {
      "cell_type": "code",
      "execution_count": null,
      "metadata": {
        "id": "TXG6GFOxGw6w"
      },
      "outputs": [],
      "source": [
        "# Test Random Forest\n",
        "test_random_forest = predict_house_price(model=rfr,bath=3,balcony=3,total_sqft_int=1750,bhk=3,price_per_sqft=8514.285714,area_type=\"Built-up Area\",availability=\"Ready To Move\",location=\"Devarabeesana Halli\")\n",
        "print(\"Test Random Forest: \", test_random_forest)"
      ]
    },
    {
      "cell_type": "markdown",
      "metadata": {
        "id": "oC0mBkarKUzw"
      },
      "source": [
        "## Save model & load model"
      ]
    },
    {
      "cell_type": "code",
      "execution_count": null,
      "metadata": {
        "id": "0FepBAKJHHuf"
      },
      "outputs": [],
      "source": [
        "import joblib\n",
        "joblib.dump(rfr, 'bangalore_house_price_prediction_model.pkl')"
      ]
    },
    {
      "cell_type": "code",
      "execution_count": 22,
      "metadata": {
        "id": "y9pzeYYLKm6E"
      },
      "outputs": [],
      "source": [
        "bangalore_house_price_prediction_model = joblib.load(\"bangalore_house_price_prediction_model.pkl\")"
      ]
    },
    {
      "cell_type": "code",
      "execution_count": null,
      "metadata": {
        "id": "Z24uQ9PjK2H0"
      },
      "outputs": [],
      "source": [
        "predict_house_price(bangalore_house_price_prediction_model,bath=3,balcony=3,total_sqft_int=150,bhk=3,price_per_sqft=8514.285714,area_type=\"Built-up Area\",availability=\"Ready To Move\",location=\"Devarabeesana Halli\")"
      ]
    }
  ],
  "metadata": {
    "colab": {
      "provenance": [],
      "toc_visible": true
    },
    "kernelspec": {
      "display_name": "Python 3",
      "language": "python",
      "name": "python3"
    },
    "language_info": {
      "codemirror_mode": {
        "name": "ipython",
        "version": 3
      },
      "file_extension": ".py",
      "mimetype": "text/x-python",
      "name": "python",
      "nbconvert_exporter": "python",
      "pygments_lexer": "ipython3",
      "version": "3.8.10"
    }
  },
  "nbformat": 4,
  "nbformat_minor": 0
}